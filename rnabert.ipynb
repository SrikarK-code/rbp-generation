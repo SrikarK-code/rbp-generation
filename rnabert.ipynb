{
  "cells": [
    {
      "cell_type": "code",
      "execution_count": null,
      "id": "14dfcb15-5146-4346-88b6-49fb13d75d20",
      "metadata": {
        "id": "14dfcb15-5146-4346-88b6-49fb13d75d20",
        "outputId": "fa65aa3d-78d7-4596-f49b-4905ee65f5b6"
      },
      "outputs": [
        {
          "name": "stdout",
          "output_type": "stream",
          "text": [
            "Cloning into 'RNABERT'...\n",
            "remote: Enumerating objects: 80, done.\u001b[K\n",
            "remote: Counting objects: 100% (80/80), done.\u001b[K\n",
            "remote: Compressing objects: 100% (53/53), done.\u001b[K\n",
            "remote: Total 80 (delta 31), reused 66 (delta 17), pack-reused 0\u001b[K\n",
            "Receiving objects: 100% (80/80), 347.43 KiB | 4.34 MiB/s, done.\n",
            "Resolving deltas: 100% (31/31), done.\n"
          ]
        }
      ],
      "source": [
        "!git clone https://github.com/mana438/RNABERT"
      ]
    },
    {
      "cell_type": "code",
      "execution_count": null,
      "id": "4caa9336-dd32-45dd-9d78-85bed110a652",
      "metadata": {
        "id": "4caa9336-dd32-45dd-9d78-85bed110a652",
        "outputId": "35d5accc-08a4-4021-a2cd-39c9ba8df747"
      },
      "outputs": [
        {
          "name": "stdout",
          "output_type": "stream",
          "text": [
            "[Errno 2] No such file or directory: 'RNABERT'\n",
            "/hpc/group/chatterjee/srikar/storage/rna-binding/RNABERT\n"
          ]
        }
      ],
      "source": [
        "%cd RNABERT"
      ]
    },
    {
      "cell_type": "code",
      "execution_count": null,
      "id": "68ee4153-6cce-46eb-a07a-602fe59de6e5",
      "metadata": {
        "id": "68ee4153-6cce-46eb-a07a-602fe59de6e5",
        "outputId": "e6b5626d-cdf4-4751-d0d0-a8feb40a99bd"
      },
      "outputs": [
        {
          "name": "stdout",
          "output_type": "stream",
          "text": [
            "Defaulting to user installation because normal site-packages is not writeable\n",
            "Processing /hpc/group/chatterjee/srikar/storage/rna-binding/RNABERT\n",
            "Building wheels for collected packages: alignment-C\n",
            "  Building wheel for alignment-C (setup.py) ... \u001b[?25ldone\n",
            "\u001b[?25h  Created wheel for alignment-C: filename=alignment_C-1.0.0-cp38-cp38-linux_x86_64.whl size=74772 sha256=29ceaf92afb3b1ba4671090c8ab296066771609d4baff2af0efbd0e2e32d5096\n",
            "  Stored in directory: /tmp/pip-ephem-wheel-cache-demohdkt/wheels/d1/f2/1a/17de7ad1bc228b6a57a7cf15042be63829dd2fc686d4c28d90\n",
            "Successfully built alignment-C\n",
            "Installing collected packages: alignment-C\n",
            "Successfully installed alignment-C-1.0.0\n"
          ]
        }
      ],
      "source": [
        "!pip install ."
      ]
    },
    {
      "cell_type": "code",
      "execution_count": null,
      "id": "02ad80e4-9956-4dd9-a416-c0701dac2b03",
      "metadata": {
        "id": "02ad80e4-9956-4dd9-a416-c0701dac2b03",
        "outputId": "33877283-2ec0-4b3a-a29c-55e6b2334db1"
      },
      "outputs": [
        {
          "name": "stdout",
          "output_type": "stream",
          "text": [
            "Defaulting to user installation because normal site-packages is not writeable\n",
            "Collecting biopython==1.77\n",
            "  Downloading biopython-1.77-cp38-cp38-manylinux1_x86_64.whl (2.3 MB)\n",
            "\u001b[K     |████████████████████████████████| 2.3 MB 4.4 MB/s eta 0:00:01\n",
            "\u001b[?25hRequirement already satisfied: numpy in /hpc/home/vk93/.local/lib/python3.8/site-packages (from biopython==1.77) (1.22.4)\n",
            "Installing collected packages: biopython\n",
            "  Attempting uninstall: biopython\n",
            "    Found existing installation: biopython 1.81\n",
            "    Uninstalling biopython-1.81:\n",
            "      Successfully uninstalled biopython-1.81\n",
            "\u001b[31mERROR: Could not install packages due to an OSError: [Errno 39] Directory not empty: 'Align'\n",
            "\u001b[0m\n",
            "Note: you may need to restart the kernel to use updated packages.\n"
          ]
        }
      ],
      "source": [
        "pip install biopython==1.77"
      ]
    },
    {
      "cell_type": "code",
      "execution_count": null,
      "id": "6ee0059a-1b92-4ec8-a805-0871a53e415f",
      "metadata": {
        "id": "6ee0059a-1b92-4ec8-a805-0871a53e415f"
      },
      "outputs": [],
      "source": [
        "import random\n",
        "import time\n",
        "import numpy as np\n",
        "import torch\n",
        "import torch.optim as optim\n",
        "from torchvision import transforms, datasets\n",
        "import copy\n",
        "from Bio import SeqIO\n",
        "import argparse\n",
        "import datetime\n",
        "from sklearn.metrics import accuracy_score, precision_score, recall_score, f1_score\n",
        "from sklearn.metrics.cluster import adjusted_rand_score\n",
        "import os\n",
        "import time\n",
        "from sklearn.metrics import normalized_mutual_info_score, adjusted_rand_score, completeness_score, homogeneity_score\n",
        "import torch.nn.functional as F\n",
        "from sklearn.cluster import MiniBatchKMeans, KMeans, AgglomerativeClustering, SpectralClustering\n",
        "import itertools"
      ]
    },
    {
      "cell_type": "code",
      "execution_count": null,
      "id": "c6aa0b93-aa18-4bb4-9d3f-8d22deeb451f",
      "metadata": {
        "id": "c6aa0b93-aa18-4bb4-9d3f-8d22deeb451f",
        "outputId": "efd90f42-b8e1-4cb6-e4da-d535e70ca348"
      },
      "outputs": [
        {
          "name": "stdout",
          "output_type": "stream",
          "text": [
            "Defaulting to user installation because normal site-packages is not writeable\n",
            "Collecting attrdict\n",
            "  Downloading attrdict-2.0.1-py2.py3-none-any.whl (9.9 kB)\n",
            "Requirement already satisfied: six in /admin/apps/rhel8/Anaconda3-2021.05/lib/python3.8/site-packages (from attrdict) (1.15.0)\n",
            "Installing collected packages: attrdict\n",
            "Successfully installed attrdict-2.0.1\n",
            "Note: you may need to restart the kernel to use updated packages.\n"
          ]
        }
      ],
      "source": [
        "pip install attrdict"
      ]
    },
    {
      "cell_type": "code",
      "execution_count": null,
      "id": "583b2927-a5a6-4cd2-adda-bd5bc2993ca6",
      "metadata": {
        "id": "583b2927-a5a6-4cd2-adda-bd5bc2993ca6"
      },
      "outputs": [],
      "source": [
        "from utils.bert import get_config, BertModel, set_learned_params, BertForMaskedLM, visualize_attention, show_base_PCA, fix_params\n",
        "from module import Train_Module\n",
        "from dataload import DATA, MyDataset\n",
        "import alignment_C as Aln_C"
      ]
    },
    {
      "cell_type": "code",
      "execution_count": null,
      "id": "7b38d971-a1aa-4477-980b-b0a91db11272",
      "metadata": {
        "id": "7b38d971-a1aa-4477-980b-b0a91db11272",
        "outputId": "bbc0fcca-c3c3-4693-fe69-f45edc19d42e"
      },
      "outputs": [
        {
          "name": "stdout",
          "output_type": "stream",
          "text": [
            "Name: biopython\n",
            "Version: 1.77\n",
            "Summary: Freely available tools for computational molecular biology.\n",
            "Home-page: https://biopython.org/\n",
            "Author: The Biopython Contributors\n",
            "Author-email: biopython@biopython.org\n",
            "License: UNKNOWN\n",
            "Location: /hpc/home/vk93/.local/lib/python3.8/site-packages\n",
            "Requires: numpy\n",
            "Required-by: dscript, bio, ankh\n",
            "Note: you may need to restart the kernel to use updated packages.\n"
          ]
        }
      ],
      "source": [
        "pip show biopython"
      ]
    },
    {
      "cell_type": "code",
      "execution_count": null,
      "id": "aa2512f8-c2af-4c5d-a13c-d0ad5305cb1b",
      "metadata": {
        "id": "aa2512f8-c2af-4c5d-a13c-d0ad5305cb1b"
      },
      "outputs": [],
      "source": [
        "import pandas as pd"
      ]
    },
    {
      "cell_type": "code",
      "execution_count": null,
      "id": "91755e36-9a16-4a6c-b35b-b760953d6251",
      "metadata": {
        "id": "91755e36-9a16-4a6c-b35b-b760953d6251"
      },
      "outputs": [],
      "source": [
        "attract = pd.read_csv('attract_hs.csv')"
      ]
    },
    {
      "cell_type": "code",
      "execution_count": null,
      "id": "08782bb9-4e1f-4e0c-9786-485f12c8a170",
      "metadata": {
        "id": "08782bb9-4e1f-4e0c-9786-485f12c8a170"
      },
      "outputs": [],
      "source": [
        "fasta_content = \"\"\n",
        "\n",
        "for index, row in attract.iterrows():\n",
        "    fasta_content += f\">{row['Gene_name']}|{row['Gene_id']}\\n{row['Motif']}\\n\"\n",
        "\n",
        "# Save to a fasta file\n",
        "with open('rna_motif_attract.fasta', 'w') as file:\n",
        "    file.write(fasta_content)\n"
      ]
    },
    {
      "cell_type": "code",
      "execution_count": null,
      "id": "26175c51-a11e-4a98-a0be-a50b832a8162",
      "metadata": {
        "id": "26175c51-a11e-4a98-a0be-a50b832a8162",
        "outputId": "7eb5efc6-ae54-4a68-e3ae-606aa316e2c6"
      },
      "outputs": [
        {
          "name": "stdout",
          "output_type": "stream",
          "text": [
            "start...\n",
            "device:  cuda\n",
            "-----start-------\n"
          ]
        }
      ],
      "source": [
        "!python MLM_SFP.py --pretraining bert_mul_2.pth --data_embedding rna_motif_attract.fasta --embedding_output embeddings_attract_rnabert.txt --batch 40"
      ]
    },
    {
      "cell_type": "code",
      "execution_count": null,
      "id": "5042dd75-7d1d-418b-bb7d-6f59ce809007",
      "metadata": {
        "id": "5042dd75-7d1d-418b-bb7d-6f59ce809007"
      },
      "outputs": [],
      "source": [
        "embeddings = pd.read_table('embeddings_attract_rnabert.txt',names=['rna_motif_emb'])"
      ]
    },
    {
      "cell_type": "code",
      "execution_count": null,
      "id": "c6f20c0f-9013-46ad-a4aa-348d7d3c5dda",
      "metadata": {
        "id": "c6f20c0f-9013-46ad-a4aa-348d7d3c5dda",
        "outputId": "874eaeda-2508-465f-cdc4-6fa986e29f3d"
      },
      "outputs": [
        {
          "data": {
            "text/plain": [
              "str"
            ]
          },
          "execution_count": 56,
          "metadata": {},
          "output_type": "execute_result"
        }
      ],
      "source": [
        "type(embeddings['rna_motif_emb'].iloc[0])"
      ]
    },
    {
      "cell_type": "code",
      "execution_count": null,
      "id": "f18d9027-e446-4dd8-be76-9c54231f135f",
      "metadata": {
        "id": "f18d9027-e446-4dd8-be76-9c54231f135f"
      },
      "outputs": [],
      "source": [
        "import ast"
      ]
    },
    {
      "cell_type": "code",
      "execution_count": null,
      "id": "544fd967-c49e-4643-b9a3-7a44a43beac1",
      "metadata": {
        "id": "544fd967-c49e-4643-b9a3-7a44a43beac1"
      },
      "outputs": [],
      "source": [
        "embeddings['rna_motif_emb'] = embeddings['rna_motif_emb'].apply(lambda x: np.array(ast.literal_eval(x)))"
      ]
    },
    {
      "cell_type": "code",
      "execution_count": null,
      "id": "df4f253c-a5a9-4627-aaeb-b5896b5af53e",
      "metadata": {
        "id": "df4f253c-a5a9-4627-aaeb-b5896b5af53e",
        "outputId": "fb4247d7-47b4-46bd-9a7d-27a635eb16bd"
      },
      "outputs": [
        {
          "data": {
            "text/plain": [
              "3252"
            ]
          },
          "execution_count": 59,
          "metadata": {},
          "output_type": "execute_result"
        }
      ],
      "source": [
        "len(embeddings)"
      ]
    },
    {
      "cell_type": "code",
      "execution_count": null,
      "id": "bb7f3448-6444-4b7f-a6b7-e8c2d7fd64dc",
      "metadata": {
        "id": "bb7f3448-6444-4b7f-a6b7-e8c2d7fd64dc",
        "outputId": "21ff878b-8a1c-4a9f-ba71-474db6c5fcb8"
      },
      "outputs": [
        {
          "data": {
            "text/plain": [
              "120"
            ]
          },
          "execution_count": 65,
          "metadata": {},
          "output_type": "execute_result"
        }
      ],
      "source": [
        "len(embeddings['rna_motif_emb'].iloc[0][1]) #gives 120 parameter embedding for each rna nucleotide"
      ]
    },
    {
      "cell_type": "code",
      "execution_count": null,
      "id": "1c3d55db-05a3-43d9-97ff-0b2625f022a8",
      "metadata": {
        "id": "1c3d55db-05a3-43d9-97ff-0b2625f022a8",
        "outputId": "bf520679-64f5-4da3-8837-43d281b148df"
      },
      "outputs": [
        {
          "name": "stdout",
          "output_type": "stream",
          "text": [
            "11\n"
          ]
        }
      ],
      "source": [
        "string_test = 'UGAUCAGUAUA'\n",
        "print(len(string_test))"
      ]
    },
    {
      "cell_type": "code",
      "execution_count": null,
      "id": "385ebd2c-00e5-49c3-b76d-32dd6339807e",
      "metadata": {
        "id": "385ebd2c-00e5-49c3-b76d-32dd6339807e",
        "outputId": "c336c23b-da71-40b9-9db0-a8a13093758f"
      },
      "outputs": [
        {
          "data": {
            "text/plain": [
              "pandas.core.frame.DataFrame"
            ]
          },
          "execution_count": 46,
          "metadata": {},
          "output_type": "execute_result"
        }
      ],
      "source": [
        "type(embeddings)"
      ]
    },
    {
      "cell_type": "code",
      "execution_count": null,
      "id": "be0cff0a-f6df-40c9-8975-c90a9ab076f7",
      "metadata": {
        "id": "be0cff0a-f6df-40c9-8975-c90a9ab076f7"
      },
      "outputs": [],
      "source": [
        "attract['rna_motif_emb'] = embeddings['rna_motif_emb']"
      ]
    },
    {
      "cell_type": "code",
      "execution_count": null,
      "id": "23d4dcfd-5456-4adc-a829-5ea14806dccc",
      "metadata": {
        "id": "23d4dcfd-5456-4adc-a829-5ea14806dccc",
        "outputId": "f0d19cfb-8ebe-4c44-b96d-f8326d2c480b"
      },
      "outputs": [
        {
          "data": {
            "text/html": [
              "<div>\n",
              "<style scoped>\n",
              "    .dataframe tbody tr th:only-of-type {\n",
              "        vertical-align: middle;\n",
              "    }\n",
              "\n",
              "    .dataframe tbody tr th {\n",
              "        vertical-align: top;\n",
              "    }\n",
              "\n",
              "    .dataframe thead th {\n",
              "        text-align: right;\n",
              "    }\n",
              "</style>\n",
              "<table border=\"1\" class=\"dataframe\">\n",
              "  <thead>\n",
              "    <tr style=\"text-align: right;\">\n",
              "      <th></th>\n",
              "      <th>Gene_name</th>\n",
              "      <th>Gene_id</th>\n",
              "      <th>Motif</th>\n",
              "      <th>RBP_sequence</th>\n",
              "      <th>rna_motif_emb</th>\n",
              "    </tr>\n",
              "  </thead>\n",
              "  <tbody>\n",
              "    <tr>\n",
              "      <th>0</th>\n",
              "      <td>A1CF</td>\n",
              "      <td>ENSG00000148584</td>\n",
              "      <td>UGAUCAGUAUA</td>\n",
              "      <td>MESNHKSGDGLSGTQKEAALRALVQRTGYSLVQENGQRKYGGPPPG...</td>\n",
              "      <td>[[0.02515462040901184, -0.1693081259727478, 1....</td>\n",
              "    </tr>\n",
              "    <tr>\n",
              "      <th>1</th>\n",
              "      <td>A1CF</td>\n",
              "      <td>ENSG00000148584</td>\n",
              "      <td>AUAAUUA</td>\n",
              "      <td>MESNHKSGDGLSGTQKEAALRALVQRTGYSLVQENGQRKYGGPPPG...</td>\n",
              "      <td>[[-0.005481339991092682, -0.008752591907978058...</td>\n",
              "    </tr>\n",
              "    <tr>\n",
              "      <th>2</th>\n",
              "      <td>A1CF</td>\n",
              "      <td>ENSG00000148584</td>\n",
              "      <td>UUAAUUA</td>\n",
              "      <td>MESNHKSGDGLSGTQKEAALRALVQRTGYSLVQENGQRKYGGPPPG...</td>\n",
              "      <td>[[-0.006157027557492256, -0.04564734920859337,...</td>\n",
              "    </tr>\n",
              "    <tr>\n",
              "      <th>3</th>\n",
              "      <td>A1CF</td>\n",
              "      <td>ENSG00000148584</td>\n",
              "      <td>AUAAUUG</td>\n",
              "      <td>MESNHKSGDGLSGTQKEAALRALVQRTGYSLVQENGQRKYGGPPPG...</td>\n",
              "      <td>[[0.0016195997595787048, 0.0697508156299591, 1...</td>\n",
              "    </tr>\n",
              "    <tr>\n",
              "      <th>4</th>\n",
              "      <td>A1CF</td>\n",
              "      <td>ENSG00000148584</td>\n",
              "      <td>UUAAUUG</td>\n",
              "      <td>MESNHKSGDGLSGTQKEAALRALVQRTGYSLVQENGQRKYGGPPPG...</td>\n",
              "      <td>[[0.02757852151989937, 0.006868686527013779, 3...</td>\n",
              "    </tr>\n",
              "    <tr>\n",
              "      <th>...</th>\n",
              "      <td>...</td>\n",
              "      <td>...</td>\n",
              "      <td>...</td>\n",
              "      <td>...</td>\n",
              "      <td>...</td>\n",
              "    </tr>\n",
              "    <tr>\n",
              "      <th>3247</th>\n",
              "      <td>SRSF1</td>\n",
              "      <td>ENSG00000136450</td>\n",
              "      <td>CGGCGGU</td>\n",
              "      <td>MSGGGVIRGPAGNNDCRIYVGNLPPDIRTKDIEDVFYKYGAIRDID...</td>\n",
              "      <td>[[0.03172174096107483, -0.21967869997024536, -...</td>\n",
              "    </tr>\n",
              "    <tr>\n",
              "      <th>3248</th>\n",
              "      <td>SRSF2</td>\n",
              "      <td>ENSG00000161547</td>\n",
              "      <td>GAAAGGAGA</td>\n",
              "      <td>MSYGRPPPDVEGMTSLKVDNLTYRTSPDTLRRVFEKYGRVGDVYIP...</td>\n",
              "      <td>[[0.013123728334903717, -0.012446027249097824,...</td>\n",
              "    </tr>\n",
              "    <tr>\n",
              "      <th>3249</th>\n",
              "      <td>HNRNPAB</td>\n",
              "      <td>ENSG00000197451</td>\n",
              "      <td>AUAGCA</td>\n",
              "      <td>MSEAGEEQPMETTGATENGHEAVPEASRGRGWTGAAAGAGGATAAP...</td>\n",
              "      <td>[[-0.0034322012215852737, 0.000896155834197998...</td>\n",
              "    </tr>\n",
              "    <tr>\n",
              "      <th>3250</th>\n",
              "      <td>HNRNPA1</td>\n",
              "      <td>ENSG00000135486</td>\n",
              "      <td>UAGG</td>\n",
              "      <td>MSKSESPKEPEQLRKLFIGGLSFETTDESLRSHFEQWGTLTDCVVM...</td>\n",
              "      <td>[[0.11391925066709518, -0.08793018758296967, 7...</td>\n",
              "    </tr>\n",
              "    <tr>\n",
              "      <th>3251</th>\n",
              "      <td>PTBP1</td>\n",
              "      <td>ENSG00000011304</td>\n",
              "      <td>UUCUUC</td>\n",
              "      <td>MDGIVPDIAVGTKRGSDELFSTCVTNGPFIMSSNSASAANGNDSKK...</td>\n",
              "      <td>[[-0.05293735861778259, -0.0894496887922287, 2...</td>\n",
              "    </tr>\n",
              "  </tbody>\n",
              "</table>\n",
              "<p>3252 rows × 5 columns</p>\n",
              "</div>"
            ],
            "text/plain": [
              "     Gene_name          Gene_id        Motif  \\\n",
              "0         A1CF  ENSG00000148584  UGAUCAGUAUA   \n",
              "1         A1CF  ENSG00000148584      AUAAUUA   \n",
              "2         A1CF  ENSG00000148584      UUAAUUA   \n",
              "3         A1CF  ENSG00000148584      AUAAUUG   \n",
              "4         A1CF  ENSG00000148584      UUAAUUG   \n",
              "...        ...              ...          ...   \n",
              "3247     SRSF1  ENSG00000136450      CGGCGGU   \n",
              "3248     SRSF2  ENSG00000161547    GAAAGGAGA   \n",
              "3249   HNRNPAB  ENSG00000197451       AUAGCA   \n",
              "3250   HNRNPA1  ENSG00000135486         UAGG   \n",
              "3251     PTBP1  ENSG00000011304       UUCUUC   \n",
              "\n",
              "                                           RBP_sequence  \\\n",
              "0     MESNHKSGDGLSGTQKEAALRALVQRTGYSLVQENGQRKYGGPPPG...   \n",
              "1     MESNHKSGDGLSGTQKEAALRALVQRTGYSLVQENGQRKYGGPPPG...   \n",
              "2     MESNHKSGDGLSGTQKEAALRALVQRTGYSLVQENGQRKYGGPPPG...   \n",
              "3     MESNHKSGDGLSGTQKEAALRALVQRTGYSLVQENGQRKYGGPPPG...   \n",
              "4     MESNHKSGDGLSGTQKEAALRALVQRTGYSLVQENGQRKYGGPPPG...   \n",
              "...                                                 ...   \n",
              "3247  MSGGGVIRGPAGNNDCRIYVGNLPPDIRTKDIEDVFYKYGAIRDID...   \n",
              "3248  MSYGRPPPDVEGMTSLKVDNLTYRTSPDTLRRVFEKYGRVGDVYIP...   \n",
              "3249  MSEAGEEQPMETTGATENGHEAVPEASRGRGWTGAAAGAGGATAAP...   \n",
              "3250  MSKSESPKEPEQLRKLFIGGLSFETTDESLRSHFEQWGTLTDCVVM...   \n",
              "3251  MDGIVPDIAVGTKRGSDELFSTCVTNGPFIMSSNSASAANGNDSKK...   \n",
              "\n",
              "                                          rna_motif_emb  \n",
              "0     [[0.02515462040901184, -0.1693081259727478, 1....  \n",
              "1     [[-0.005481339991092682, -0.008752591907978058...  \n",
              "2     [[-0.006157027557492256, -0.04564734920859337,...  \n",
              "3     [[0.0016195997595787048, 0.0697508156299591, 1...  \n",
              "4     [[0.02757852151989937, 0.006868686527013779, 3...  \n",
              "...                                                 ...  \n",
              "3247  [[0.03172174096107483, -0.21967869997024536, -...  \n",
              "3248  [[0.013123728334903717, -0.012446027249097824,...  \n",
              "3249  [[-0.0034322012215852737, 0.000896155834197998...  \n",
              "3250  [[0.11391925066709518, -0.08793018758296967, 7...  \n",
              "3251  [[-0.05293735861778259, -0.0894496887922287, 2...  \n",
              "\n",
              "[3252 rows x 5 columns]"
            ]
          },
          "execution_count": 69,
          "metadata": {},
          "output_type": "execute_result"
        }
      ],
      "source": [
        "attract"
      ]
    },
    {
      "cell_type": "code",
      "execution_count": null,
      "id": "76ec593f-43fc-4e98-a7a4-0ef704d1551d",
      "metadata": {
        "id": "76ec593f-43fc-4e98-a7a4-0ef704d1551d"
      },
      "outputs": [],
      "source": [
        "attract.to_csv('attract_with_motif_emb.csv',index=False)"
      ]
    }
  ],
  "metadata": {
    "kernelspec": {
      "display_name": "Python 3",
      "language": "python",
      "name": "python3"
    },
    "language_info": {
      "codemirror_mode": {
        "name": "ipython",
        "version": 3
      },
      "file_extension": ".py",
      "mimetype": "text/x-python",
      "name": "python",
      "nbconvert_exporter": "python",
      "pygments_lexer": "ipython3",
      "version": "3.8.8"
    },
    "colab": {
      "provenance": []
    }
  },
  "nbformat": 4,
  "nbformat_minor": 5
}